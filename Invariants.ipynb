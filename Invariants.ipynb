{
 "cells": [
  {
   "cell_type": "code",
   "execution_count": 1,
   "metadata": {
    "collapsed": true
   },
   "outputs": [],
   "source": [
    "%display latex"
   ]
  },
  {
   "cell_type": "markdown",
   "metadata": {},
   "source": [
    "#### Espace-temps relativiste"
   ]
  },
  {
   "cell_type": "code",
   "execution_count": 2,
   "metadata": {
    "collapsed": false
   },
   "outputs": [
    {
     "data": {
      "text/html": [
       "<html><script type=\"math/tex; mode=display\">\\newcommand{\\Bold}[1]{\\mathbf{#1}}\\mathcal{M}</script></html>"
      ],
      "text/plain": [
       "4-dimensional differentiable manifold M"
      ]
     },
     "execution_count": 2,
     "metadata": {},
     "output_type": "execute_result"
    }
   ],
   "source": [
    "M = Manifold(4, 'M', r'\\mathcal{M}') ; M"
   ]
  },
  {
   "cell_type": "markdown",
   "metadata": {},
   "source": [
    "#### Création d'une carte "
   ]
  },
  {
   "cell_type": "code",
   "execution_count": 3,
   "metadata": {
    "collapsed": false
   },
   "outputs": [
    {
     "name": "stdout",
     "output_type": "stream",
     "text": [
      "Chart (M, (t, x, y, z))\n"
     ]
    },
    {
     "data": {
      "text/html": [
       "<html><script type=\"math/tex; mode=display\">\\newcommand{\\Bold}[1]{\\mathbf{#1}}\\left(\\mathcal{M},(t, x, y, z)\\right)</script></html>"
      ],
      "text/plain": [
       "Chart (M, (t, x, y, z))"
      ]
     },
     "execution_count": 3,
     "metadata": {},
     "output_type": "execute_result"
    }
   ],
   "source": [
    "X.<t,x,y,z> = M.chart(r't x:(-oo,+oo) y:(-oo,+oo) z:(-oo,+oo)')\n",
    "print X ; X"
   ]
  },
  {
   "cell_type": "markdown",
   "metadata": {},
   "source": [
    "#### Métrique de Minkowski"
   ]
  },
  {
   "cell_type": "code",
   "execution_count": 4,
   "metadata": {
    "collapsed": false
   },
   "outputs": [
    {
     "data": {
      "text/html": [
       "<html><script type=\"math/tex; mode=display\">\\newcommand{\\Bold}[1]{\\mathbf{#1}}\\left(\\begin{array}{rrrr}\n",
       "-1 & 0 & 0 & 0 \\\\\n",
       "0 & 1 & 0 & 0 \\\\\n",
       "0 & 0 & 1 & 0 \\\\\n",
       "0 & 0 & 0 & 1\n",
       "\\end{array}\\right)</script></html>"
      ],
      "text/plain": [
       "[-1  0  0  0]\n",
       "[ 0  1  0  0]\n",
       "[ 0  0  1  0]\n",
       "[ 0  0  0  1]"
      ]
     },
     "execution_count": 4,
     "metadata": {},
     "output_type": "execute_result"
    }
   ],
   "source": [
    "eta = M.lorentzian_metric('eta'); eta\n",
    "eta[0,0] = -1\n",
    "eta[1,1] = 1\n",
    "eta[2,2] = 1\n",
    "eta[3,3] = 1\n",
    "eta.display()\n",
    "eta[:]"
   ]
  },
  {
   "cell_type": "markdown",
   "metadata": {},
   "source": [
    "#### Perturbation de la métrique"
   ]
  },
  {
   "cell_type": "code",
   "execution_count": 5,
   "metadata": {
    "collapsed": false
   },
   "outputs": [],
   "source": [
    "h11=function('h11')(z,t)\n",
    "h12=function('h12')(z,t)\n",
    "h00=function('h00')(z,t)\n",
    "h03=function('h03')(z,t)"
   ]
  },
  {
   "cell_type": "code",
   "execution_count": 6,
   "metadata": {
    "collapsed": false
   },
   "outputs": [
    {
     "data": {
      "text/html": [
       "<html><script type=\"math/tex; mode=display\">\\newcommand{\\Bold}[1]{\\mathbf{#1}}\\left(\\begin{array}{rrrr}\n",
       "h_{00}\\left(z, t\\right) & 0 & 0 & h_{03}\\left(z, t\\right) \\\\\n",
       "0 & h_{11}\\left(z, t\\right) & h_{12}\\left(z, t\\right) & 0 \\\\\n",
       "0 & h_{12}\\left(z, t\\right) & -h_{11}\\left(z, t\\right) & 0 \\\\\n",
       "h_{03}\\left(z, t\\right) & 0 & 0 & h_{00}\\left(z, t\\right)\n",
       "\\end{array}\\right)</script></html>"
      ],
      "text/plain": [
       "[ h00(z, t)          0          0  h03(z, t)]\n",
       "[         0  h11(z, t)  h12(z, t)          0]\n",
       "[         0  h12(z, t) -h11(z, t)          0]\n",
       "[ h03(z, t)          0          0  h00(z, t)]"
      ]
     },
     "execution_count": 6,
     "metadata": {},
     "output_type": "execute_result"
    }
   ],
   "source": [
    "h = M.lorentzian_metric('h'); \n",
    "h[0,0] = h00\n",
    "h[1,1] = h11;\n",
    "h[2,2] = -h[1,1];\n",
    "h[3,3] = h00;\n",
    "h[0,1] = 0;\n",
    "h[0,2] = 0;\n",
    "h[0,3] = h03;\n",
    "h[1,2] = h12;\n",
    "h[1,3] = 0;\n",
    "h[2,3] = 0;\n",
    "h[3,0] = h[0,3];\n",
    "h[3,1] = h[1,3];\n",
    "h[3,2] = h[2,3];\n",
    "h[1,0] = h[0,1];\n",
    "h[2,0] = h[0,2];\n",
    "h[2,1] = h[1,2];\n",
    "h[:]"
   ]
  },
  {
   "cell_type": "code",
   "execution_count": 7,
   "metadata": {
    "collapsed": false
   },
   "outputs": [
    {
     "data": {
      "text/html": [
       "<html><script type=\"math/tex; mode=display\">\\newcommand{\\Bold}[1]{\\mathbf{#1}}\\left(\\begin{array}{rrrr}\n",
       "h_{00}\\left(z, t\\right) & 0 & 0 & -h_{03}\\left(z, t\\right) \\\\\n",
       "0 & h_{11}\\left(z, t\\right) & h_{12}\\left(z, t\\right) & 0 \\\\\n",
       "0 & h_{12}\\left(z, t\\right) & -h_{11}\\left(z, t\\right) & 0 \\\\\n",
       "-h_{03}\\left(z, t\\right) & 0 & 0 & h_{00}\\left(z, t\\right)\n",
       "\\end{array}\\right)</script></html>"
      ],
      "text/plain": [
       "[ h00(z, t)          0          0 -h03(z, t)]\n",
       "[         0  h11(z, t)  h12(z, t)          0]\n",
       "[         0  h12(z, t) -h11(z, t)          0]\n",
       "[-h03(z, t)          0          0  h00(z, t)]"
      ]
     },
     "execution_count": 7,
     "metadata": {},
     "output_type": "execute_result"
    }
   ],
   "source": [
    "huu=h.up(eta)\n",
    "huu[:]"
   ]
  },
  {
   "cell_type": "markdown",
   "metadata": {},
   "source": [
    "#### Jauge de Lorenz"
   ]
  },
  {
   "cell_type": "code",
   "execution_count": 8,
   "metadata": {
    "collapsed": false
   },
   "outputs": [
    {
     "data": {
      "text/html": [
       "<html><script type=\"math/tex; mode=display\">\\newcommand{\\Bold}[1]{\\mathbf{#1}}\\left[\\frac{\\partial\\,h_{00}}{\\partial t} - \\frac{\\partial\\,h_{03}}{\\partial z}, 0, 0, \\frac{\\partial\\,h_{00}}{\\partial z} - \\frac{\\partial\\,h_{03}}{\\partial t}\\right]</script></html>"
      ],
      "text/plain": [
       "[d(h00)/dt - d(h03)/dz, 0, 0, d(h00)/dz - d(h03)/dt]"
      ]
     },
     "execution_count": 8,
     "metadata": {},
     "output_type": "execute_result"
    }
   ],
   "source": [
    "jauge = vector(M.irange())\n",
    "jauge=[0,0,0,0]\n",
    "for k in M.irange():\n",
    "    for i in M.irange():\n",
    "        jauge[k] += huu[i,k].diff(X[i])\n",
    "jauge"
   ]
  },
  {
   "cell_type": "markdown",
   "metadata": {},
   "source": [
    "#### trace de $h_{\\mu \\nu}$"
   ]
  },
  {
   "cell_type": "code",
   "execution_count": 9,
   "metadata": {
    "collapsed": false
   },
   "outputs": [
    {
     "data": {
      "text/html": [
       "<html><script type=\"math/tex; mode=display\">\\newcommand{\\Bold}[1]{\\mathbf{#1}}\\begin{array}{llcl} 0:& \\mathcal{M} & \\longrightarrow & \\mathbb{R} \\\\ & \\left(t, x, y, z\\right) & \\longmapsto & 0 \\end{array}</script></html>"
      ],
      "text/plain": [
       "zero: M --> R\n",
       "   (t, x, y, z) |--> 0"
      ]
     },
     "execution_count": 9,
     "metadata": {},
     "output_type": "execute_result"
    }
   ],
   "source": [
    "etauu=eta.up(eta);\n",
    "htrace=etauu['^ij']*h['_ij']\n",
    "htrace.display()"
   ]
  },
  {
   "cell_type": "markdown",
   "metadata": {},
   "source": [
    "#### Symboles de Christoffel"
   ]
  },
  {
   "cell_type": "code",
   "execution_count": 10,
   "metadata": {
    "collapsed": false
   },
   "outputs": [],
   "source": [
    "chris=M.tensor_field(1,2,name='\\Gamma')\n",
    "e=X.frame()\n",
    "for i in M.irange():\n",
    "        for j in M.irange():\n",
    "            for k in M.irange():\n",
    "                    chris.add_comp(e)[i,j,k] =1/2*eta[i,i]*(h[k,i].diff(X[j])+h[j,i].diff(X[k])-h[j,k].diff(X[i]));"
   ]
  },
  {
   "cell_type": "code",
   "execution_count": 11,
   "metadata": {
    "collapsed": false
   },
   "outputs": [
    {
     "data": {
      "text/html": [
       "<html><script type=\"math/tex; mode=display\">\\newcommand{\\Bold}[1]{\\mathbf{#1}}\\begin{array}{lcl} \\Gamma_{ \\phantom{\\, t} \\, t \\, t }^{ \\, t \\phantom{\\, t} \\phantom{\\, t} } & = & -\\frac{1}{2} \\, \\frac{\\partial\\,h_{00}}{\\partial t} \\\\ \\Gamma_{ \\phantom{\\, t} \\, t \\, z }^{ \\, t \\phantom{\\, t} \\phantom{\\, z} } & = & -\\frac{1}{2} \\, \\frac{\\partial\\,h_{00}}{\\partial z} \\\\ \\Gamma_{ \\phantom{\\, t} \\, x \\, x }^{ \\, t \\phantom{\\, x} \\phantom{\\, x} } & = & \\frac{1}{2} \\, \\frac{\\partial\\,h_{11}}{\\partial t} \\\\ \\Gamma_{ \\phantom{\\, t} \\, x \\, y }^{ \\, t \\phantom{\\, x} \\phantom{\\, y} } & = & \\frac{1}{2} \\, \\frac{\\partial\\,h_{12}}{\\partial t} \\\\ \\Gamma_{ \\phantom{\\, t} \\, y \\, x }^{ \\, t \\phantom{\\, y} \\phantom{\\, x} } & = & \\frac{1}{2} \\, \\frac{\\partial\\,h_{12}}{\\partial t} \\\\ \\Gamma_{ \\phantom{\\, t} \\, y \\, y }^{ \\, t \\phantom{\\, y} \\phantom{\\, y} } & = & -\\frac{1}{2} \\, \\frac{\\partial\\,h_{11}}{\\partial t} \\\\ \\Gamma_{ \\phantom{\\, t} \\, z \\, t }^{ \\, t \\phantom{\\, z} \\phantom{\\, t} } & = & -\\frac{1}{2} \\, \\frac{\\partial\\,h_{00}}{\\partial z} \\\\ \\Gamma_{ \\phantom{\\, t} \\, z \\, z }^{ \\, t \\phantom{\\, z} \\phantom{\\, z} } & = & \\frac{1}{2} \\, \\frac{\\partial\\,h_{00}}{\\partial t} - \\frac{\\partial\\,h_{03}}{\\partial z} \\\\ \\Gamma_{ \\phantom{\\, x} \\, t \\, x }^{ \\, x \\phantom{\\, t} \\phantom{\\, x} } & = & \\frac{1}{2} \\, \\frac{\\partial\\,h_{11}}{\\partial t} \\\\ \\Gamma_{ \\phantom{\\, x} \\, t \\, y }^{ \\, x \\phantom{\\, t} \\phantom{\\, y} } & = & \\frac{1}{2} \\, \\frac{\\partial\\,h_{12}}{\\partial t} \\\\ \\Gamma_{ \\phantom{\\, x} \\, x \\, t }^{ \\, x \\phantom{\\, x} \\phantom{\\, t} } & = & \\frac{1}{2} \\, \\frac{\\partial\\,h_{11}}{\\partial t} \\\\ \\Gamma_{ \\phantom{\\, x} \\, x \\, z }^{ \\, x \\phantom{\\, x} \\phantom{\\, z} } & = & \\frac{1}{2} \\, \\frac{\\partial\\,h_{11}}{\\partial z} \\\\ \\Gamma_{ \\phantom{\\, x} \\, y \\, t }^{ \\, x \\phantom{\\, y} \\phantom{\\, t} } & = & \\frac{1}{2} \\, \\frac{\\partial\\,h_{12}}{\\partial t} \\\\ \\Gamma_{ \\phantom{\\, x} \\, y \\, z }^{ \\, x \\phantom{\\, y} \\phantom{\\, z} } & = & \\frac{1}{2} \\, \\frac{\\partial\\,h_{12}}{\\partial z} \\\\ \\Gamma_{ \\phantom{\\, x} \\, z \\, x }^{ \\, x \\phantom{\\, z} \\phantom{\\, x} } & = & \\frac{1}{2} \\, \\frac{\\partial\\,h_{11}}{\\partial z} \\\\ \\Gamma_{ \\phantom{\\, x} \\, z \\, y }^{ \\, x \\phantom{\\, z} \\phantom{\\, y} } & = & \\frac{1}{2} \\, \\frac{\\partial\\,h_{12}}{\\partial z} \\\\ \\Gamma_{ \\phantom{\\, y} \\, t \\, x }^{ \\, y \\phantom{\\, t} \\phantom{\\, x} } & = & \\frac{1}{2} \\, \\frac{\\partial\\,h_{12}}{\\partial t} \\\\ \\Gamma_{ \\phantom{\\, y} \\, t \\, y }^{ \\, y \\phantom{\\, t} \\phantom{\\, y} } & = & -\\frac{1}{2} \\, \\frac{\\partial\\,h_{11}}{\\partial t} \\\\ \\Gamma_{ \\phantom{\\, y} \\, x \\, t }^{ \\, y \\phantom{\\, x} \\phantom{\\, t} } & = & \\frac{1}{2} \\, \\frac{\\partial\\,h_{12}}{\\partial t} \\\\ \\Gamma_{ \\phantom{\\, y} \\, x \\, z }^{ \\, y \\phantom{\\, x} \\phantom{\\, z} } & = & \\frac{1}{2} \\, \\frac{\\partial\\,h_{12}}{\\partial z} \\\\ \\Gamma_{ \\phantom{\\, y} \\, y \\, t }^{ \\, y \\phantom{\\, y} \\phantom{\\, t} } & = & -\\frac{1}{2} \\, \\frac{\\partial\\,h_{11}}{\\partial t} \\\\ \\Gamma_{ \\phantom{\\, y} \\, y \\, z }^{ \\, y \\phantom{\\, y} \\phantom{\\, z} } & = & -\\frac{1}{2} \\, \\frac{\\partial\\,h_{11}}{\\partial z} \\\\ \\Gamma_{ \\phantom{\\, y} \\, z \\, x }^{ \\, y \\phantom{\\, z} \\phantom{\\, x} } & = & \\frac{1}{2} \\, \\frac{\\partial\\,h_{12}}{\\partial z} \\\\ \\Gamma_{ \\phantom{\\, y} \\, z \\, y }^{ \\, y \\phantom{\\, z} \\phantom{\\, y} } & = & -\\frac{1}{2} \\, \\frac{\\partial\\,h_{11}}{\\partial z} \\\\ \\Gamma_{ \\phantom{\\, z} \\, t \\, t }^{ \\, z \\phantom{\\, t} \\phantom{\\, t} } & = & -\\frac{1}{2} \\, \\frac{\\partial\\,h_{00}}{\\partial z} + \\frac{\\partial\\,h_{03}}{\\partial t} \\\\ \\Gamma_{ \\phantom{\\, z} \\, t \\, z }^{ \\, z \\phantom{\\, t} \\phantom{\\, z} } & = & \\frac{1}{2} \\, \\frac{\\partial\\,h_{00}}{\\partial t} \\\\ \\Gamma_{ \\phantom{\\, z} \\, x \\, x }^{ \\, z \\phantom{\\, x} \\phantom{\\, x} } & = & -\\frac{1}{2} \\, \\frac{\\partial\\,h_{11}}{\\partial z} \\\\ \\Gamma_{ \\phantom{\\, z} \\, x \\, y }^{ \\, z \\phantom{\\, x} \\phantom{\\, y} } & = & -\\frac{1}{2} \\, \\frac{\\partial\\,h_{12}}{\\partial z} \\\\ \\Gamma_{ \\phantom{\\, z} \\, y \\, x }^{ \\, z \\phantom{\\, y} \\phantom{\\, x} } & = & -\\frac{1}{2} \\, \\frac{\\partial\\,h_{12}}{\\partial z} \\\\ \\Gamma_{ \\phantom{\\, z} \\, y \\, y }^{ \\, z \\phantom{\\, y} \\phantom{\\, y} } & = & \\frac{1}{2} \\, \\frac{\\partial\\,h_{11}}{\\partial z} \\\\ \\Gamma_{ \\phantom{\\, z} \\, z \\, t }^{ \\, z \\phantom{\\, z} \\phantom{\\, t} } & = & \\frac{1}{2} \\, \\frac{\\partial\\,h_{00}}{\\partial t} \\\\ \\Gamma_{ \\phantom{\\, z} \\, z \\, z }^{ \\, z \\phantom{\\, z} \\phantom{\\, z} } & = & \\frac{1}{2} \\, \\frac{\\partial\\,h_{00}}{\\partial z} \\end{array}</script></html>"
      ],
      "text/plain": [
       "\\Gamma^t_tt = -1/2*d(h00)/dt \n",
       "\\Gamma^t_tz = -1/2*d(h00)/dz \n",
       "\\Gamma^t_xx = 1/2*d(h11)/dt \n",
       "\\Gamma^t_xy = 1/2*d(h12)/dt \n",
       "\\Gamma^t_yx = 1/2*d(h12)/dt \n",
       "\\Gamma^t_yy = -1/2*d(h11)/dt \n",
       "\\Gamma^t_zt = -1/2*d(h00)/dz \n",
       "\\Gamma^t_zz = 1/2*d(h00)/dt - d(h03)/dz \n",
       "\\Gamma^x_tx = 1/2*d(h11)/dt \n",
       "\\Gamma^x_ty = 1/2*d(h12)/dt \n",
       "\\Gamma^x_xt = 1/2*d(h11)/dt \n",
       "\\Gamma^x_xz = 1/2*d(h11)/dz \n",
       "\\Gamma^x_yt = 1/2*d(h12)/dt \n",
       "\\Gamma^x_yz = 1/2*d(h12)/dz \n",
       "\\Gamma^x_zx = 1/2*d(h11)/dz \n",
       "\\Gamma^x_zy = 1/2*d(h12)/dz \n",
       "\\Gamma^y_tx = 1/2*d(h12)/dt \n",
       "\\Gamma^y_ty = -1/2*d(h11)/dt \n",
       "\\Gamma^y_xt = 1/2*d(h12)/dt \n",
       "\\Gamma^y_xz = 1/2*d(h12)/dz \n",
       "\\Gamma^y_yt = -1/2*d(h11)/dt \n",
       "\\Gamma^y_yz = -1/2*d(h11)/dz \n",
       "\\Gamma^y_zx = 1/2*d(h12)/dz \n",
       "\\Gamma^y_zy = -1/2*d(h11)/dz \n",
       "\\Gamma^z_tt = -1/2*d(h00)/dz + d(h03)/dt \n",
       "\\Gamma^z_tz = 1/2*d(h00)/dt \n",
       "\\Gamma^z_xx = -1/2*d(h11)/dz \n",
       "\\Gamma^z_xy = -1/2*d(h12)/dz \n",
       "\\Gamma^z_yx = -1/2*d(h12)/dz \n",
       "\\Gamma^z_yy = 1/2*d(h11)/dz \n",
       "\\Gamma^z_zt = 1/2*d(h00)/dt \n",
       "\\Gamma^z_zz = 1/2*d(h00)/dz "
      ]
     },
     "execution_count": 11,
     "metadata": {},
     "output_type": "execute_result"
    }
   ],
   "source": [
    "chris.display_comp()"
   ]
  },
  {
   "cell_type": "markdown",
   "metadata": {
    "collapsed": false
   },
   "source": [
    "#### Tenseur de Riemann"
   ]
  },
  {
   "cell_type": "code",
   "execution_count": 12,
   "metadata": {
    "collapsed": false
   },
   "outputs": [],
   "source": [
    "Riemd=M.tensor_field(0,4,name='R')"
   ]
  },
  {
   "cell_type": "code",
   "execution_count": 13,
   "metadata": {
    "collapsed": false
   },
   "outputs": [
    {
     "data": {
      "text/html": [
       "<html><script type=\"math/tex; mode=display\">\\newcommand{\\Bold}[1]{\\mathbf{#1}}\\begin{array}{lcl} R_{ \\, t \\, x \\, t \\, x }^{ \\phantom{\\, t}\\phantom{\\, x}\\phantom{\\, t}\\phantom{\\, x} } & = & -\\frac{1}{2} \\, \\frac{\\partial^2\\,h_{11}}{\\partial t ^ 2} \\\\ R_{ \\, t \\, x \\, t \\, y }^{ \\phantom{\\, t}\\phantom{\\, x}\\phantom{\\, t}\\phantom{\\, y} } & = & -\\frac{1}{2} \\, \\frac{\\partial^2\\,h_{12}}{\\partial t ^ 2} \\\\ R_{ \\, t \\, x \\, x \\, t }^{ \\phantom{\\, t}\\phantom{\\, x}\\phantom{\\, x}\\phantom{\\, t} } & = & \\frac{1}{2} \\, \\frac{\\partial^2\\,h_{11}}{\\partial t ^ 2} \\\\ R_{ \\, t \\, x \\, x \\, z }^{ \\phantom{\\, t}\\phantom{\\, x}\\phantom{\\, x}\\phantom{\\, z} } & = & \\frac{1}{2} \\, \\frac{\\partial^2\\,h_{11}}{\\partial z\\partial t} \\\\ R_{ \\, t \\, x \\, y \\, t }^{ \\phantom{\\, t}\\phantom{\\, x}\\phantom{\\, y}\\phantom{\\, t} } & = & \\frac{1}{2} \\, \\frac{\\partial^2\\,h_{12}}{\\partial t ^ 2} \\\\ R_{ \\, t \\, x \\, y \\, z }^{ \\phantom{\\, t}\\phantom{\\, x}\\phantom{\\, y}\\phantom{\\, z} } & = & \\frac{1}{2} \\, \\frac{\\partial^2\\,h_{12}}{\\partial z\\partial t} \\\\ R_{ \\, t \\, x \\, z \\, x }^{ \\phantom{\\, t}\\phantom{\\, x}\\phantom{\\, z}\\phantom{\\, x} } & = & -\\frac{1}{2} \\, \\frac{\\partial^2\\,h_{11}}{\\partial z\\partial t} \\\\ R_{ \\, t \\, x \\, z \\, y }^{ \\phantom{\\, t}\\phantom{\\, x}\\phantom{\\, z}\\phantom{\\, y} } & = & -\\frac{1}{2} \\, \\frac{\\partial^2\\,h_{12}}{\\partial z\\partial t} \\\\ R_{ \\, t \\, y \\, t \\, x }^{ \\phantom{\\, t}\\phantom{\\, y}\\phantom{\\, t}\\phantom{\\, x} } & = & -\\frac{1}{2} \\, \\frac{\\partial^2\\,h_{12}}{\\partial t ^ 2} \\\\ R_{ \\, t \\, y \\, t \\, y }^{ \\phantom{\\, t}\\phantom{\\, y}\\phantom{\\, t}\\phantom{\\, y} } & = & \\frac{1}{2} \\, \\frac{\\partial^2\\,h_{11}}{\\partial t ^ 2} \\\\ R_{ \\, t \\, y \\, x \\, t }^{ \\phantom{\\, t}\\phantom{\\, y}\\phantom{\\, x}\\phantom{\\, t} } & = & \\frac{1}{2} \\, \\frac{\\partial^2\\,h_{12}}{\\partial t ^ 2} \\\\ R_{ \\, t \\, y \\, x \\, z }^{ \\phantom{\\, t}\\phantom{\\, y}\\phantom{\\, x}\\phantom{\\, z} } & = & \\frac{1}{2} \\, \\frac{\\partial^2\\,h_{12}}{\\partial z\\partial t} \\\\ R_{ \\, t \\, y \\, y \\, t }^{ \\phantom{\\, t}\\phantom{\\, y}\\phantom{\\, y}\\phantom{\\, t} } & = & -\\frac{1}{2} \\, \\frac{\\partial^2\\,h_{11}}{\\partial t ^ 2} \\\\ R_{ \\, t \\, y \\, y \\, z }^{ \\phantom{\\, t}\\phantom{\\, y}\\phantom{\\, y}\\phantom{\\, z} } & = & -\\frac{1}{2} \\, \\frac{\\partial^2\\,h_{11}}{\\partial z\\partial t} \\\\ R_{ \\, t \\, y \\, z \\, x }^{ \\phantom{\\, t}\\phantom{\\, y}\\phantom{\\, z}\\phantom{\\, x} } & = & -\\frac{1}{2} \\, \\frac{\\partial^2\\,h_{12}}{\\partial z\\partial t} \\\\ R_{ \\, t \\, y \\, z \\, y }^{ \\phantom{\\, t}\\phantom{\\, y}\\phantom{\\, z}\\phantom{\\, y} } & = & \\frac{1}{2} \\, \\frac{\\partial^2\\,h_{11}}{\\partial z\\partial t} \\\\ R_{ \\, t \\, z \\, t \\, z }^{ \\phantom{\\, t}\\phantom{\\, z}\\phantom{\\, t}\\phantom{\\, z} } & = & -\\frac{1}{2} \\, \\frac{\\partial^2\\,h_{00}}{\\partial z ^ 2} - \\frac{1}{2} \\, \\frac{\\partial^2\\,h_{00}}{\\partial t ^ 2} + \\frac{\\partial^2\\,h_{03}}{\\partial z\\partial t} \\\\ R_{ \\, t \\, z \\, z \\, t }^{ \\phantom{\\, t}\\phantom{\\, z}\\phantom{\\, z}\\phantom{\\, t} } & = & \\frac{1}{2} \\, \\frac{\\partial^2\\,h_{00}}{\\partial z ^ 2} + \\frac{1}{2} \\, \\frac{\\partial^2\\,h_{00}}{\\partial t ^ 2} - \\frac{\\partial^2\\,h_{03}}{\\partial z\\partial t} \\\\ R_{ \\, x \\, t \\, t \\, x }^{ \\phantom{\\, x}\\phantom{\\, t}\\phantom{\\, t}\\phantom{\\, x} } & = & \\frac{1}{2} \\, \\frac{\\partial^2\\,h_{11}}{\\partial t ^ 2} \\\\ R_{ \\, x \\, t \\, t \\, y }^{ \\phantom{\\, x}\\phantom{\\, t}\\phantom{\\, t}\\phantom{\\, y} } & = & \\frac{1}{2} \\, \\frac{\\partial^2\\,h_{12}}{\\partial t ^ 2} \\\\ R_{ \\, x \\, t \\, x \\, t }^{ \\phantom{\\, x}\\phantom{\\, t}\\phantom{\\, x}\\phantom{\\, t} } & = & -\\frac{1}{2} \\, \\frac{\\partial^2\\,h_{11}}{\\partial t ^ 2} \\\\ R_{ \\, x \\, t \\, x \\, z }^{ \\phantom{\\, x}\\phantom{\\, t}\\phantom{\\, x}\\phantom{\\, z} } & = & -\\frac{1}{2} \\, \\frac{\\partial^2\\,h_{11}}{\\partial z\\partial t} \\\\ R_{ \\, x \\, t \\, y \\, t }^{ \\phantom{\\, x}\\phantom{\\, t}\\phantom{\\, y}\\phantom{\\, t} } & = & -\\frac{1}{2} \\, \\frac{\\partial^2\\,h_{12}}{\\partial t ^ 2} \\\\ R_{ \\, x \\, t \\, y \\, z }^{ \\phantom{\\, x}\\phantom{\\, t}\\phantom{\\, y}\\phantom{\\, z} } & = & -\\frac{1}{2} \\, \\frac{\\partial^2\\,h_{12}}{\\partial z\\partial t} \\\\ R_{ \\, x \\, t \\, z \\, x }^{ \\phantom{\\, x}\\phantom{\\, t}\\phantom{\\, z}\\phantom{\\, x} } & = & \\frac{1}{2} \\, \\frac{\\partial^2\\,h_{11}}{\\partial z\\partial t} \\\\ R_{ \\, x \\, t \\, z \\, y }^{ \\phantom{\\, x}\\phantom{\\, t}\\phantom{\\, z}\\phantom{\\, y} } & = & \\frac{1}{2} \\, \\frac{\\partial^2\\,h_{12}}{\\partial z\\partial t} \\\\ R_{ \\, x \\, z \\, t \\, x }^{ \\phantom{\\, x}\\phantom{\\, z}\\phantom{\\, t}\\phantom{\\, x} } & = & \\frac{1}{2} \\, \\frac{\\partial^2\\,h_{11}}{\\partial z\\partial t} \\\\ R_{ \\, x \\, z \\, t \\, y }^{ \\phantom{\\, x}\\phantom{\\, z}\\phantom{\\, t}\\phantom{\\, y} } & = & \\frac{1}{2} \\, \\frac{\\partial^2\\,h_{12}}{\\partial z\\partial t} \\\\ R_{ \\, x \\, z \\, x \\, t }^{ \\phantom{\\, x}\\phantom{\\, z}\\phantom{\\, x}\\phantom{\\, t} } & = & -\\frac{1}{2} \\, \\frac{\\partial^2\\,h_{11}}{\\partial z\\partial t} \\\\ R_{ \\, x \\, z \\, x \\, z }^{ \\phantom{\\, x}\\phantom{\\, z}\\phantom{\\, x}\\phantom{\\, z} } & = & -\\frac{1}{2} \\, \\frac{\\partial^2\\,h_{11}}{\\partial z ^ 2} \\\\ R_{ \\, x \\, z \\, y \\, t }^{ \\phantom{\\, x}\\phantom{\\, z}\\phantom{\\, y}\\phantom{\\, t} } & = & -\\frac{1}{2} \\, \\frac{\\partial^2\\,h_{12}}{\\partial z\\partial t} \\\\ R_{ \\, x \\, z \\, y \\, z }^{ \\phantom{\\, x}\\phantom{\\, z}\\phantom{\\, y}\\phantom{\\, z} } & = & -\\frac{1}{2} \\, \\frac{\\partial^2\\,h_{12}}{\\partial z ^ 2} \\\\ R_{ \\, x \\, z \\, z \\, x }^{ \\phantom{\\, x}\\phantom{\\, z}\\phantom{\\, z}\\phantom{\\, x} } & = & \\frac{1}{2} \\, \\frac{\\partial^2\\,h_{11}}{\\partial z ^ 2} \\\\ R_{ \\, x \\, z \\, z \\, y }^{ \\phantom{\\, x}\\phantom{\\, z}\\phantom{\\, z}\\phantom{\\, y} } & = & \\frac{1}{2} \\, \\frac{\\partial^2\\,h_{12}}{\\partial z ^ 2} \\\\ R_{ \\, y \\, t \\, t \\, x }^{ \\phantom{\\, y}\\phantom{\\, t}\\phantom{\\, t}\\phantom{\\, x} } & = & \\frac{1}{2} \\, \\frac{\\partial^2\\,h_{12}}{\\partial t ^ 2} \\\\ R_{ \\, y \\, t \\, t \\, y }^{ \\phantom{\\, y}\\phantom{\\, t}\\phantom{\\, t}\\phantom{\\, y} } & = & -\\frac{1}{2} \\, \\frac{\\partial^2\\,h_{11}}{\\partial t ^ 2} \\\\ R_{ \\, y \\, t \\, x \\, t }^{ \\phantom{\\, y}\\phantom{\\, t}\\phantom{\\, x}\\phantom{\\, t} } & = & -\\frac{1}{2} \\, \\frac{\\partial^2\\,h_{12}}{\\partial t ^ 2} \\\\ R_{ \\, y \\, t \\, x \\, z }^{ \\phantom{\\, y}\\phantom{\\, t}\\phantom{\\, x}\\phantom{\\, z} } & = & -\\frac{1}{2} \\, \\frac{\\partial^2\\,h_{12}}{\\partial z\\partial t} \\\\ R_{ \\, y \\, t \\, y \\, t }^{ \\phantom{\\, y}\\phantom{\\, t}\\phantom{\\, y}\\phantom{\\, t} } & = & \\frac{1}{2} \\, \\frac{\\partial^2\\,h_{11}}{\\partial t ^ 2} \\\\ R_{ \\, y \\, t \\, y \\, z }^{ \\phantom{\\, y}\\phantom{\\, t}\\phantom{\\, y}\\phantom{\\, z} } & = & \\frac{1}{2} \\, \\frac{\\partial^2\\,h_{11}}{\\partial z\\partial t} \\\\ R_{ \\, y \\, t \\, z \\, x }^{ \\phantom{\\, y}\\phantom{\\, t}\\phantom{\\, z}\\phantom{\\, x} } & = & \\frac{1}{2} \\, \\frac{\\partial^2\\,h_{12}}{\\partial z\\partial t} \\\\ R_{ \\, y \\, t \\, z \\, y }^{ \\phantom{\\, y}\\phantom{\\, t}\\phantom{\\, z}\\phantom{\\, y} } & = & -\\frac{1}{2} \\, \\frac{\\partial^2\\,h_{11}}{\\partial z\\partial t} \\\\ R_{ \\, y \\, z \\, t \\, x }^{ \\phantom{\\, y}\\phantom{\\, z}\\phantom{\\, t}\\phantom{\\, x} } & = & \\frac{1}{2} \\, \\frac{\\partial^2\\,h_{12}}{\\partial z\\partial t} \\\\ R_{ \\, y \\, z \\, t \\, y }^{ \\phantom{\\, y}\\phantom{\\, z}\\phantom{\\, t}\\phantom{\\, y} } & = & -\\frac{1}{2} \\, \\frac{\\partial^2\\,h_{11}}{\\partial z\\partial t} \\\\ R_{ \\, y \\, z \\, x \\, t }^{ \\phantom{\\, y}\\phantom{\\, z}\\phantom{\\, x}\\phantom{\\, t} } & = & -\\frac{1}{2} \\, \\frac{\\partial^2\\,h_{12}}{\\partial z\\partial t} \\\\ R_{ \\, y \\, z \\, x \\, z }^{ \\phantom{\\, y}\\phantom{\\, z}\\phantom{\\, x}\\phantom{\\, z} } & = & -\\frac{1}{2} \\, \\frac{\\partial^2\\,h_{12}}{\\partial z ^ 2} \\\\ R_{ \\, y \\, z \\, y \\, t }^{ \\phantom{\\, y}\\phantom{\\, z}\\phantom{\\, y}\\phantom{\\, t} } & = & \\frac{1}{2} \\, \\frac{\\partial^2\\,h_{11}}{\\partial z\\partial t} \\\\ R_{ \\, y \\, z \\, y \\, z }^{ \\phantom{\\, y}\\phantom{\\, z}\\phantom{\\, y}\\phantom{\\, z} } & = & \\frac{1}{2} \\, \\frac{\\partial^2\\,h_{11}}{\\partial z ^ 2} \\\\ R_{ \\, y \\, z \\, z \\, x }^{ \\phantom{\\, y}\\phantom{\\, z}\\phantom{\\, z}\\phantom{\\, x} } & = & \\frac{1}{2} \\, \\frac{\\partial^2\\,h_{12}}{\\partial z ^ 2} \\\\ R_{ \\, y \\, z \\, z \\, y }^{ \\phantom{\\, y}\\phantom{\\, z}\\phantom{\\, z}\\phantom{\\, y} } & = & -\\frac{1}{2} \\, \\frac{\\partial^2\\,h_{11}}{\\partial z ^ 2} \\\\ R_{ \\, z \\, t \\, t \\, z }^{ \\phantom{\\, z}\\phantom{\\, t}\\phantom{\\, t}\\phantom{\\, z} } & = & \\frac{1}{2} \\, \\frac{\\partial^2\\,h_{00}}{\\partial z ^ 2} + \\frac{1}{2} \\, \\frac{\\partial^2\\,h_{00}}{\\partial t ^ 2} - \\frac{\\partial^2\\,h_{03}}{\\partial z\\partial t} \\\\ R_{ \\, z \\, t \\, z \\, t }^{ \\phantom{\\, z}\\phantom{\\, t}\\phantom{\\, z}\\phantom{\\, t} } & = & -\\frac{1}{2} \\, \\frac{\\partial^2\\,h_{00}}{\\partial z ^ 2} - \\frac{1}{2} \\, \\frac{\\partial^2\\,h_{00}}{\\partial t ^ 2} + \\frac{\\partial^2\\,h_{03}}{\\partial z\\partial t} \\\\ R_{ \\, z \\, x \\, t \\, x }^{ \\phantom{\\, z}\\phantom{\\, x}\\phantom{\\, t}\\phantom{\\, x} } & = & -\\frac{1}{2} \\, \\frac{\\partial^2\\,h_{11}}{\\partial z\\partial t} \\\\ R_{ \\, z \\, x \\, t \\, y }^{ \\phantom{\\, z}\\phantom{\\, x}\\phantom{\\, t}\\phantom{\\, y} } & = & -\\frac{1}{2} \\, \\frac{\\partial^2\\,h_{12}}{\\partial z\\partial t} \\\\ R_{ \\, z \\, x \\, x \\, t }^{ \\phantom{\\, z}\\phantom{\\, x}\\phantom{\\, x}\\phantom{\\, t} } & = & \\frac{1}{2} \\, \\frac{\\partial^2\\,h_{11}}{\\partial z\\partial t} \\\\ R_{ \\, z \\, x \\, x \\, z }^{ \\phantom{\\, z}\\phantom{\\, x}\\phantom{\\, x}\\phantom{\\, z} } & = & \\frac{1}{2} \\, \\frac{\\partial^2\\,h_{11}}{\\partial z ^ 2} \\\\ R_{ \\, z \\, x \\, y \\, t }^{ \\phantom{\\, z}\\phantom{\\, x}\\phantom{\\, y}\\phantom{\\, t} } & = & \\frac{1}{2} \\, \\frac{\\partial^2\\,h_{12}}{\\partial z\\partial t} \\\\ R_{ \\, z \\, x \\, y \\, z }^{ \\phantom{\\, z}\\phantom{\\, x}\\phantom{\\, y}\\phantom{\\, z} } & = & \\frac{1}{2} \\, \\frac{\\partial^2\\,h_{12}}{\\partial z ^ 2} \\\\ R_{ \\, z \\, x \\, z \\, x }^{ \\phantom{\\, z}\\phantom{\\, x}\\phantom{\\, z}\\phantom{\\, x} } & = & -\\frac{1}{2} \\, \\frac{\\partial^2\\,h_{11}}{\\partial z ^ 2} \\\\ R_{ \\, z \\, x \\, z \\, y }^{ \\phantom{\\, z}\\phantom{\\, x}\\phantom{\\, z}\\phantom{\\, y} } & = & -\\frac{1}{2} \\, \\frac{\\partial^2\\,h_{12}}{\\partial z ^ 2} \\\\ R_{ \\, z \\, y \\, t \\, x }^{ \\phantom{\\, z}\\phantom{\\, y}\\phantom{\\, t}\\phantom{\\, x} } & = & -\\frac{1}{2} \\, \\frac{\\partial^2\\,h_{12}}{\\partial z\\partial t} \\\\ R_{ \\, z \\, y \\, t \\, y }^{ \\phantom{\\, z}\\phantom{\\, y}\\phantom{\\, t}\\phantom{\\, y} } & = & \\frac{1}{2} \\, \\frac{\\partial^2\\,h_{11}}{\\partial z\\partial t} \\\\ R_{ \\, z \\, y \\, x \\, t }^{ \\phantom{\\, z}\\phantom{\\, y}\\phantom{\\, x}\\phantom{\\, t} } & = & \\frac{1}{2} \\, \\frac{\\partial^2\\,h_{12}}{\\partial z\\partial t} \\\\ R_{ \\, z \\, y \\, x \\, z }^{ \\phantom{\\, z}\\phantom{\\, y}\\phantom{\\, x}\\phantom{\\, z} } & = & \\frac{1}{2} \\, \\frac{\\partial^2\\,h_{12}}{\\partial z ^ 2} \\\\ R_{ \\, z \\, y \\, y \\, t }^{ \\phantom{\\, z}\\phantom{\\, y}\\phantom{\\, y}\\phantom{\\, t} } & = & -\\frac{1}{2} \\, \\frac{\\partial^2\\,h_{11}}{\\partial z\\partial t} \\\\ R_{ \\, z \\, y \\, y \\, z }^{ \\phantom{\\, z}\\phantom{\\, y}\\phantom{\\, y}\\phantom{\\, z} } & = & -\\frac{1}{2} \\, \\frac{\\partial^2\\,h_{11}}{\\partial z ^ 2} \\\\ R_{ \\, z \\, y \\, z \\, x }^{ \\phantom{\\, z}\\phantom{\\, y}\\phantom{\\, z}\\phantom{\\, x} } & = & -\\frac{1}{2} \\, \\frac{\\partial^2\\,h_{12}}{\\partial z ^ 2} \\\\ R_{ \\, z \\, y \\, z \\, y }^{ \\phantom{\\, z}\\phantom{\\, y}\\phantom{\\, z}\\phantom{\\, y} } & = & \\frac{1}{2} \\, \\frac{\\partial^2\\,h_{11}}{\\partial z ^ 2} \\end{array}</script></html>"
      ],
      "text/plain": [
       "R_txtx = -1/2*d^2(h11)/dt^2 \n",
       "R_txty = -1/2*d^2(h12)/dt^2 \n",
       "R_txxt = 1/2*d^2(h11)/dt^2 \n",
       "R_txxz = 1/2*d^2(h11)/dzdt \n",
       "R_txyt = 1/2*d^2(h12)/dt^2 \n",
       "R_txyz = 1/2*d^2(h12)/dzdt \n",
       "R_txzx = -1/2*d^2(h11)/dzdt \n",
       "R_txzy = -1/2*d^2(h12)/dzdt \n",
       "R_tytx = -1/2*d^2(h12)/dt^2 \n",
       "R_tyty = 1/2*d^2(h11)/dt^2 \n",
       "R_tyxt = 1/2*d^2(h12)/dt^2 \n",
       "R_tyxz = 1/2*d^2(h12)/dzdt \n",
       "R_tyyt = -1/2*d^2(h11)/dt^2 \n",
       "R_tyyz = -1/2*d^2(h11)/dzdt \n",
       "R_tyzx = -1/2*d^2(h12)/dzdt \n",
       "R_tyzy = 1/2*d^2(h11)/dzdt \n",
       "R_tztz = -1/2*d^2(h00)/dz^2 - 1/2*d^2(h00)/dt^2 + d^2(h03)/dzdt \n",
       "R_tzzt = 1/2*d^2(h00)/dz^2 + 1/2*d^2(h00)/dt^2 - d^2(h03)/dzdt \n",
       "R_xttx = 1/2*d^2(h11)/dt^2 \n",
       "R_xtty = 1/2*d^2(h12)/dt^2 \n",
       "R_xtxt = -1/2*d^2(h11)/dt^2 \n",
       "R_xtxz = -1/2*d^2(h11)/dzdt \n",
       "R_xtyt = -1/2*d^2(h12)/dt^2 \n",
       "R_xtyz = -1/2*d^2(h12)/dzdt \n",
       "R_xtzx = 1/2*d^2(h11)/dzdt \n",
       "R_xtzy = 1/2*d^2(h12)/dzdt \n",
       "R_xztx = 1/2*d^2(h11)/dzdt \n",
       "R_xzty = 1/2*d^2(h12)/dzdt \n",
       "R_xzxt = -1/2*d^2(h11)/dzdt \n",
       "R_xzxz = -1/2*d^2(h11)/dz^2 \n",
       "R_xzyt = -1/2*d^2(h12)/dzdt \n",
       "R_xzyz = -1/2*d^2(h12)/dz^2 \n",
       "R_xzzx = 1/2*d^2(h11)/dz^2 \n",
       "R_xzzy = 1/2*d^2(h12)/dz^2 \n",
       "R_yttx = 1/2*d^2(h12)/dt^2 \n",
       "R_ytty = -1/2*d^2(h11)/dt^2 \n",
       "R_ytxt = -1/2*d^2(h12)/dt^2 \n",
       "R_ytxz = -1/2*d^2(h12)/dzdt \n",
       "R_ytyt = 1/2*d^2(h11)/dt^2 \n",
       "R_ytyz = 1/2*d^2(h11)/dzdt \n",
       "R_ytzx = 1/2*d^2(h12)/dzdt \n",
       "R_ytzy = -1/2*d^2(h11)/dzdt \n",
       "R_yztx = 1/2*d^2(h12)/dzdt \n",
       "R_yzty = -1/2*d^2(h11)/dzdt \n",
       "R_yzxt = -1/2*d^2(h12)/dzdt \n",
       "R_yzxz = -1/2*d^2(h12)/dz^2 \n",
       "R_yzyt = 1/2*d^2(h11)/dzdt \n",
       "R_yzyz = 1/2*d^2(h11)/dz^2 \n",
       "R_yzzx = 1/2*d^2(h12)/dz^2 \n",
       "R_yzzy = -1/2*d^2(h11)/dz^2 \n",
       "R_zttz = 1/2*d^2(h00)/dz^2 + 1/2*d^2(h00)/dt^2 - d^2(h03)/dzdt \n",
       "R_ztzt = -1/2*d^2(h00)/dz^2 - 1/2*d^2(h00)/dt^2 + d^2(h03)/dzdt \n",
       "R_zxtx = -1/2*d^2(h11)/dzdt \n",
       "R_zxty = -1/2*d^2(h12)/dzdt \n",
       "R_zxxt = 1/2*d^2(h11)/dzdt \n",
       "R_zxxz = 1/2*d^2(h11)/dz^2 \n",
       "R_zxyt = 1/2*d^2(h12)/dzdt \n",
       "R_zxyz = 1/2*d^2(h12)/dz^2 \n",
       "R_zxzx = -1/2*d^2(h11)/dz^2 \n",
       "R_zxzy = -1/2*d^2(h12)/dz^2 \n",
       "R_zytx = -1/2*d^2(h12)/dzdt \n",
       "R_zyty = 1/2*d^2(h11)/dzdt \n",
       "R_zyxt = 1/2*d^2(h12)/dzdt \n",
       "R_zyxz = 1/2*d^2(h12)/dz^2 \n",
       "R_zyyt = -1/2*d^2(h11)/dzdt \n",
       "R_zyyz = -1/2*d^2(h11)/dz^2 \n",
       "R_zyzx = -1/2*d^2(h12)/dz^2 \n",
       "R_zyzy = 1/2*d^2(h11)/dz^2 "
      ]
     },
     "execution_count": 13,
     "metadata": {},
     "output_type": "execute_result"
    }
   ],
   "source": [
    "for i in M.irange():\n",
    "        for j in M.irange():\n",
    "                   for k in M.irange():\n",
    "                          for l in M.irange():\n",
    "                                Riemd[i,j,k,l]=(chris[i,j,l].diff(X[k])-chris[i,k,j].diff(X[l]))*eta[i,i]\n",
    "Riemd.display_comp()"
   ]
  },
  {
   "cell_type": "code",
   "execution_count": 14,
   "metadata": {
    "collapsed": false
   },
   "outputs": [
    {
     "data": {
      "text/html": [
       "<html><script type=\"math/tex; mode=display\">\\newcommand{\\Bold}[1]{\\mathbf{#1}}\\begin{array}{lcl} X_{\\phantom{\\, t}\\phantom{\\, x}\\phantom{\\, t}\\phantom{\\, x}}^{ \\, t \\, x \\, t \\, x } & = & -\\frac{1}{2} \\, \\frac{\\partial^2\\,h_{11}}{\\partial t ^ 2} \\\\ X_{\\phantom{\\, t}\\phantom{\\, x}\\phantom{\\, t}\\phantom{\\, y}}^{ \\, t \\, x \\, t \\, y } & = & -\\frac{1}{2} \\, \\frac{\\partial^2\\,h_{12}}{\\partial t ^ 2} \\\\ X_{\\phantom{\\, t}\\phantom{\\, x}\\phantom{\\, x}\\phantom{\\, t}}^{ \\, t \\, x \\, x \\, t } & = & \\frac{1}{2} \\, \\frac{\\partial^2\\,h_{11}}{\\partial t ^ 2} \\\\ X_{\\phantom{\\, t}\\phantom{\\, x}\\phantom{\\, x}\\phantom{\\, z}}^{ \\, t \\, x \\, x \\, z } & = & -\\frac{1}{2} \\, \\frac{\\partial^2\\,h_{11}}{\\partial z\\partial t} \\\\ X_{\\phantom{\\, t}\\phantom{\\, x}\\phantom{\\, y}\\phantom{\\, t}}^{ \\, t \\, x \\, y \\, t } & = & \\frac{1}{2} \\, \\frac{\\partial^2\\,h_{12}}{\\partial t ^ 2} \\\\ X_{\\phantom{\\, t}\\phantom{\\, x}\\phantom{\\, y}\\phantom{\\, z}}^{ \\, t \\, x \\, y \\, z } & = & -\\frac{1}{2} \\, \\frac{\\partial^2\\,h_{12}}{\\partial z\\partial t} \\\\ X_{\\phantom{\\, t}\\phantom{\\, x}\\phantom{\\, z}\\phantom{\\, x}}^{ \\, t \\, x \\, z \\, x } & = & \\frac{1}{2} \\, \\frac{\\partial^2\\,h_{11}}{\\partial z\\partial t} \\\\ X_{\\phantom{\\, t}\\phantom{\\, x}\\phantom{\\, z}\\phantom{\\, y}}^{ \\, t \\, x \\, z \\, y } & = & \\frac{1}{2} \\, \\frac{\\partial^2\\,h_{12}}{\\partial z\\partial t} \\\\ X_{\\phantom{\\, t}\\phantom{\\, y}\\phantom{\\, t}\\phantom{\\, x}}^{ \\, t \\, y \\, t \\, x } & = & -\\frac{1}{2} \\, \\frac{\\partial^2\\,h_{12}}{\\partial t ^ 2} \\\\ X_{\\phantom{\\, t}\\phantom{\\, y}\\phantom{\\, t}\\phantom{\\, y}}^{ \\, t \\, y \\, t \\, y } & = & \\frac{1}{2} \\, \\frac{\\partial^2\\,h_{11}}{\\partial t ^ 2} \\\\ X_{\\phantom{\\, t}\\phantom{\\, y}\\phantom{\\, x}\\phantom{\\, t}}^{ \\, t \\, y \\, x \\, t } & = & \\frac{1}{2} \\, \\frac{\\partial^2\\,h_{12}}{\\partial t ^ 2} \\\\ X_{\\phantom{\\, t}\\phantom{\\, y}\\phantom{\\, x}\\phantom{\\, z}}^{ \\, t \\, y \\, x \\, z } & = & -\\frac{1}{2} \\, \\frac{\\partial^2\\,h_{12}}{\\partial z\\partial t} \\\\ X_{\\phantom{\\, t}\\phantom{\\, y}\\phantom{\\, y}\\phantom{\\, t}}^{ \\, t \\, y \\, y \\, t } & = & -\\frac{1}{2} \\, \\frac{\\partial^2\\,h_{11}}{\\partial t ^ 2} \\\\ X_{\\phantom{\\, t}\\phantom{\\, y}\\phantom{\\, y}\\phantom{\\, z}}^{ \\, t \\, y \\, y \\, z } & = & \\frac{1}{2} \\, \\frac{\\partial^2\\,h_{11}}{\\partial z\\partial t} \\\\ X_{\\phantom{\\, t}\\phantom{\\, y}\\phantom{\\, z}\\phantom{\\, x}}^{ \\, t \\, y \\, z \\, x } & = & \\frac{1}{2} \\, \\frac{\\partial^2\\,h_{12}}{\\partial z\\partial t} \\\\ X_{\\phantom{\\, t}\\phantom{\\, y}\\phantom{\\, z}\\phantom{\\, y}}^{ \\, t \\, y \\, z \\, y } & = & -\\frac{1}{2} \\, \\frac{\\partial^2\\,h_{11}}{\\partial z\\partial t} \\\\ X_{\\phantom{\\, t}\\phantom{\\, z}\\phantom{\\, t}\\phantom{\\, z}}^{ \\, t \\, z \\, t \\, z } & = & -\\frac{1}{2} \\, \\frac{\\partial^2\\,h_{00}}{\\partial z ^ 2} - \\frac{1}{2} \\, \\frac{\\partial^2\\,h_{00}}{\\partial t ^ 2} + \\frac{\\partial^2\\,h_{03}}{\\partial z\\partial t} \\\\ X_{\\phantom{\\, t}\\phantom{\\, z}\\phantom{\\, z}\\phantom{\\, t}}^{ \\, t \\, z \\, z \\, t } & = & \\frac{1}{2} \\, \\frac{\\partial^2\\,h_{00}}{\\partial z ^ 2} + \\frac{1}{2} \\, \\frac{\\partial^2\\,h_{00}}{\\partial t ^ 2} - \\frac{\\partial^2\\,h_{03}}{\\partial z\\partial t} \\\\ X_{\\phantom{\\, x}\\phantom{\\, t}\\phantom{\\, t}\\phantom{\\, x}}^{ \\, x \\, t \\, t \\, x } & = & \\frac{1}{2} \\, \\frac{\\partial^2\\,h_{11}}{\\partial t ^ 2} \\\\ X_{\\phantom{\\, x}\\phantom{\\, t}\\phantom{\\, t}\\phantom{\\, y}}^{ \\, x \\, t \\, t \\, y } & = & \\frac{1}{2} \\, \\frac{\\partial^2\\,h_{12}}{\\partial t ^ 2} \\\\ X_{\\phantom{\\, x}\\phantom{\\, t}\\phantom{\\, x}\\phantom{\\, t}}^{ \\, x \\, t \\, x \\, t } & = & -\\frac{1}{2} \\, \\frac{\\partial^2\\,h_{11}}{\\partial t ^ 2} \\\\ X_{\\phantom{\\, x}\\phantom{\\, t}\\phantom{\\, x}\\phantom{\\, z}}^{ \\, x \\, t \\, x \\, z } & = & \\frac{1}{2} \\, \\frac{\\partial^2\\,h_{11}}{\\partial z\\partial t} \\\\ X_{\\phantom{\\, x}\\phantom{\\, t}\\phantom{\\, y}\\phantom{\\, t}}^{ \\, x \\, t \\, y \\, t } & = & -\\frac{1}{2} \\, \\frac{\\partial^2\\,h_{12}}{\\partial t ^ 2} \\\\ X_{\\phantom{\\, x}\\phantom{\\, t}\\phantom{\\, y}\\phantom{\\, z}}^{ \\, x \\, t \\, y \\, z } & = & \\frac{1}{2} \\, \\frac{\\partial^2\\,h_{12}}{\\partial z\\partial t} \\\\ X_{\\phantom{\\, x}\\phantom{\\, t}\\phantom{\\, z}\\phantom{\\, x}}^{ \\, x \\, t \\, z \\, x } & = & -\\frac{1}{2} \\, \\frac{\\partial^2\\,h_{11}}{\\partial z\\partial t} \\\\ X_{\\phantom{\\, x}\\phantom{\\, t}\\phantom{\\, z}\\phantom{\\, y}}^{ \\, x \\, t \\, z \\, y } & = & -\\frac{1}{2} \\, \\frac{\\partial^2\\,h_{12}}{\\partial z\\partial t} \\\\ X_{\\phantom{\\, x}\\phantom{\\, z}\\phantom{\\, t}\\phantom{\\, x}}^{ \\, x \\, z \\, t \\, x } & = & -\\frac{1}{2} \\, \\frac{\\partial^2\\,h_{11}}{\\partial z\\partial t} \\\\ X_{\\phantom{\\, x}\\phantom{\\, z}\\phantom{\\, t}\\phantom{\\, y}}^{ \\, x \\, z \\, t \\, y } & = & -\\frac{1}{2} \\, \\frac{\\partial^2\\,h_{12}}{\\partial z\\partial t} \\\\ X_{\\phantom{\\, x}\\phantom{\\, z}\\phantom{\\, x}\\phantom{\\, t}}^{ \\, x \\, z \\, x \\, t } & = & \\frac{1}{2} \\, \\frac{\\partial^2\\,h_{11}}{\\partial z\\partial t} \\\\ X_{\\phantom{\\, x}\\phantom{\\, z}\\phantom{\\, x}\\phantom{\\, z}}^{ \\, x \\, z \\, x \\, z } & = & -\\frac{1}{2} \\, \\frac{\\partial^2\\,h_{11}}{\\partial z ^ 2} \\\\ X_{\\phantom{\\, x}\\phantom{\\, z}\\phantom{\\, y}\\phantom{\\, t}}^{ \\, x \\, z \\, y \\, t } & = & \\frac{1}{2} \\, \\frac{\\partial^2\\,h_{12}}{\\partial z\\partial t} \\\\ X_{\\phantom{\\, x}\\phantom{\\, z}\\phantom{\\, y}\\phantom{\\, z}}^{ \\, x \\, z \\, y \\, z } & = & -\\frac{1}{2} \\, \\frac{\\partial^2\\,h_{12}}{\\partial z ^ 2} \\\\ X_{\\phantom{\\, x}\\phantom{\\, z}\\phantom{\\, z}\\phantom{\\, x}}^{ \\, x \\, z \\, z \\, x } & = & \\frac{1}{2} \\, \\frac{\\partial^2\\,h_{11}}{\\partial z ^ 2} \\\\ X_{\\phantom{\\, x}\\phantom{\\, z}\\phantom{\\, z}\\phantom{\\, y}}^{ \\, x \\, z \\, z \\, y } & = & \\frac{1}{2} \\, \\frac{\\partial^2\\,h_{12}}{\\partial z ^ 2} \\\\ X_{\\phantom{\\, y}\\phantom{\\, t}\\phantom{\\, t}\\phantom{\\, x}}^{ \\, y \\, t \\, t \\, x } & = & \\frac{1}{2} \\, \\frac{\\partial^2\\,h_{12}}{\\partial t ^ 2} \\\\ X_{\\phantom{\\, y}\\phantom{\\, t}\\phantom{\\, t}\\phantom{\\, y}}^{ \\, y \\, t \\, t \\, y } & = & -\\frac{1}{2} \\, \\frac{\\partial^2\\,h_{11}}{\\partial t ^ 2} \\\\ X_{\\phantom{\\, y}\\phantom{\\, t}\\phantom{\\, x}\\phantom{\\, t}}^{ \\, y \\, t \\, x \\, t } & = & -\\frac{1}{2} \\, \\frac{\\partial^2\\,h_{12}}{\\partial t ^ 2} \\\\ X_{\\phantom{\\, y}\\phantom{\\, t}\\phantom{\\, x}\\phantom{\\, z}}^{ \\, y \\, t \\, x \\, z } & = & \\frac{1}{2} \\, \\frac{\\partial^2\\,h_{12}}{\\partial z\\partial t} \\\\ X_{\\phantom{\\, y}\\phantom{\\, t}\\phantom{\\, y}\\phantom{\\, t}}^{ \\, y \\, t \\, y \\, t } & = & \\frac{1}{2} \\, \\frac{\\partial^2\\,h_{11}}{\\partial t ^ 2} \\\\ X_{\\phantom{\\, y}\\phantom{\\, t}\\phantom{\\, y}\\phantom{\\, z}}^{ \\, y \\, t \\, y \\, z } & = & -\\frac{1}{2} \\, \\frac{\\partial^2\\,h_{11}}{\\partial z\\partial t} \\\\ X_{\\phantom{\\, y}\\phantom{\\, t}\\phantom{\\, z}\\phantom{\\, x}}^{ \\, y \\, t \\, z \\, x } & = & -\\frac{1}{2} \\, \\frac{\\partial^2\\,h_{12}}{\\partial z\\partial t} \\\\ X_{\\phantom{\\, y}\\phantom{\\, t}\\phantom{\\, z}\\phantom{\\, y}}^{ \\, y \\, t \\, z \\, y } & = & \\frac{1}{2} \\, \\frac{\\partial^2\\,h_{11}}{\\partial z\\partial t} \\\\ X_{\\phantom{\\, y}\\phantom{\\, z}\\phantom{\\, t}\\phantom{\\, x}}^{ \\, y \\, z \\, t \\, x } & = & -\\frac{1}{2} \\, \\frac{\\partial^2\\,h_{12}}{\\partial z\\partial t} \\\\ X_{\\phantom{\\, y}\\phantom{\\, z}\\phantom{\\, t}\\phantom{\\, y}}^{ \\, y \\, z \\, t \\, y } & = & \\frac{1}{2} \\, \\frac{\\partial^2\\,h_{11}}{\\partial z\\partial t} \\\\ X_{\\phantom{\\, y}\\phantom{\\, z}\\phantom{\\, x}\\phantom{\\, t}}^{ \\, y \\, z \\, x \\, t } & = & \\frac{1}{2} \\, \\frac{\\partial^2\\,h_{12}}{\\partial z\\partial t} \\\\ X_{\\phantom{\\, y}\\phantom{\\, z}\\phantom{\\, x}\\phantom{\\, z}}^{ \\, y \\, z \\, x \\, z } & = & -\\frac{1}{2} \\, \\frac{\\partial^2\\,h_{12}}{\\partial z ^ 2} \\\\ X_{\\phantom{\\, y}\\phantom{\\, z}\\phantom{\\, y}\\phantom{\\, t}}^{ \\, y \\, z \\, y \\, t } & = & -\\frac{1}{2} \\, \\frac{\\partial^2\\,h_{11}}{\\partial z\\partial t} \\\\ X_{\\phantom{\\, y}\\phantom{\\, z}\\phantom{\\, y}\\phantom{\\, z}}^{ \\, y \\, z \\, y \\, z } & = & \\frac{1}{2} \\, \\frac{\\partial^2\\,h_{11}}{\\partial z ^ 2} \\\\ X_{\\phantom{\\, y}\\phantom{\\, z}\\phantom{\\, z}\\phantom{\\, x}}^{ \\, y \\, z \\, z \\, x } & = & \\frac{1}{2} \\, \\frac{\\partial^2\\,h_{12}}{\\partial z ^ 2} \\\\ X_{\\phantom{\\, y}\\phantom{\\, z}\\phantom{\\, z}\\phantom{\\, y}}^{ \\, y \\, z \\, z \\, y } & = & -\\frac{1}{2} \\, \\frac{\\partial^2\\,h_{11}}{\\partial z ^ 2} \\\\ X_{\\phantom{\\, z}\\phantom{\\, t}\\phantom{\\, t}\\phantom{\\, z}}^{ \\, z \\, t \\, t \\, z } & = & \\frac{1}{2} \\, \\frac{\\partial^2\\,h_{00}}{\\partial z ^ 2} + \\frac{1}{2} \\, \\frac{\\partial^2\\,h_{00}}{\\partial t ^ 2} - \\frac{\\partial^2\\,h_{03}}{\\partial z\\partial t} \\\\ X_{\\phantom{\\, z}\\phantom{\\, t}\\phantom{\\, z}\\phantom{\\, t}}^{ \\, z \\, t \\, z \\, t } & = & -\\frac{1}{2} \\, \\frac{\\partial^2\\,h_{00}}{\\partial z ^ 2} - \\frac{1}{2} \\, \\frac{\\partial^2\\,h_{00}}{\\partial t ^ 2} + \\frac{\\partial^2\\,h_{03}}{\\partial z\\partial t} \\\\ X_{\\phantom{\\, z}\\phantom{\\, x}\\phantom{\\, t}\\phantom{\\, x}}^{ \\, z \\, x \\, t \\, x } & = & \\frac{1}{2} \\, \\frac{\\partial^2\\,h_{11}}{\\partial z\\partial t} \\\\ X_{\\phantom{\\, z}\\phantom{\\, x}\\phantom{\\, t}\\phantom{\\, y}}^{ \\, z \\, x \\, t \\, y } & = & \\frac{1}{2} \\, \\frac{\\partial^2\\,h_{12}}{\\partial z\\partial t} \\\\ X_{\\phantom{\\, z}\\phantom{\\, x}\\phantom{\\, x}\\phantom{\\, t}}^{ \\, z \\, x \\, x \\, t } & = & -\\frac{1}{2} \\, \\frac{\\partial^2\\,h_{11}}{\\partial z\\partial t} \\\\ X_{\\phantom{\\, z}\\phantom{\\, x}\\phantom{\\, x}\\phantom{\\, z}}^{ \\, z \\, x \\, x \\, z } & = & \\frac{1}{2} \\, \\frac{\\partial^2\\,h_{11}}{\\partial z ^ 2} \\\\ X_{\\phantom{\\, z}\\phantom{\\, x}\\phantom{\\, y}\\phantom{\\, t}}^{ \\, z \\, x \\, y \\, t } & = & -\\frac{1}{2} \\, \\frac{\\partial^2\\,h_{12}}{\\partial z\\partial t} \\\\ X_{\\phantom{\\, z}\\phantom{\\, x}\\phantom{\\, y}\\phantom{\\, z}}^{ \\, z \\, x \\, y \\, z } & = & \\frac{1}{2} \\, \\frac{\\partial^2\\,h_{12}}{\\partial z ^ 2} \\\\ X_{\\phantom{\\, z}\\phantom{\\, x}\\phantom{\\, z}\\phantom{\\, x}}^{ \\, z \\, x \\, z \\, x } & = & -\\frac{1}{2} \\, \\frac{\\partial^2\\,h_{11}}{\\partial z ^ 2} \\\\ X_{\\phantom{\\, z}\\phantom{\\, x}\\phantom{\\, z}\\phantom{\\, y}}^{ \\, z \\, x \\, z \\, y } & = & -\\frac{1}{2} \\, \\frac{\\partial^2\\,h_{12}}{\\partial z ^ 2} \\\\ X_{\\phantom{\\, z}\\phantom{\\, y}\\phantom{\\, t}\\phantom{\\, x}}^{ \\, z \\, y \\, t \\, x } & = & \\frac{1}{2} \\, \\frac{\\partial^2\\,h_{12}}{\\partial z\\partial t} \\\\ X_{\\phantom{\\, z}\\phantom{\\, y}\\phantom{\\, t}\\phantom{\\, y}}^{ \\, z \\, y \\, t \\, y } & = & -\\frac{1}{2} \\, \\frac{\\partial^2\\,h_{11}}{\\partial z\\partial t} \\\\ X_{\\phantom{\\, z}\\phantom{\\, y}\\phantom{\\, x}\\phantom{\\, t}}^{ \\, z \\, y \\, x \\, t } & = & -\\frac{1}{2} \\, \\frac{\\partial^2\\,h_{12}}{\\partial z\\partial t} \\\\ X_{\\phantom{\\, z}\\phantom{\\, y}\\phantom{\\, x}\\phantom{\\, z}}^{ \\, z \\, y \\, x \\, z } & = & \\frac{1}{2} \\, \\frac{\\partial^2\\,h_{12}}{\\partial z ^ 2} \\\\ X_{\\phantom{\\, z}\\phantom{\\, y}\\phantom{\\, y}\\phantom{\\, t}}^{ \\, z \\, y \\, y \\, t } & = & \\frac{1}{2} \\, \\frac{\\partial^2\\,h_{11}}{\\partial z\\partial t} \\\\ X_{\\phantom{\\, z}\\phantom{\\, y}\\phantom{\\, y}\\phantom{\\, z}}^{ \\, z \\, y \\, y \\, z } & = & -\\frac{1}{2} \\, \\frac{\\partial^2\\,h_{11}}{\\partial z ^ 2} \\\\ X_{\\phantom{\\, z}\\phantom{\\, y}\\phantom{\\, z}\\phantom{\\, x}}^{ \\, z \\, y \\, z \\, x } & = & -\\frac{1}{2} \\, \\frac{\\partial^2\\,h_{12}}{\\partial z ^ 2} \\\\ X_{\\phantom{\\, z}\\phantom{\\, y}\\phantom{\\, z}\\phantom{\\, y}}^{ \\, z \\, y \\, z \\, y } & = & \\frac{1}{2} \\, \\frac{\\partial^2\\,h_{11}}{\\partial z ^ 2} \\end{array}</script></html>"
      ],
      "text/plain": [
       "X^txtx = -1/2*d^2(h11)/dt^2 \n",
       "X^txty = -1/2*d^2(h12)/dt^2 \n",
       "X^txxt = 1/2*d^2(h11)/dt^2 \n",
       "X^txxz = -1/2*d^2(h11)/dzdt \n",
       "X^txyt = 1/2*d^2(h12)/dt^2 \n",
       "X^txyz = -1/2*d^2(h12)/dzdt \n",
       "X^txzx = 1/2*d^2(h11)/dzdt \n",
       "X^txzy = 1/2*d^2(h12)/dzdt \n",
       "X^tytx = -1/2*d^2(h12)/dt^2 \n",
       "X^tyty = 1/2*d^2(h11)/dt^2 \n",
       "X^tyxt = 1/2*d^2(h12)/dt^2 \n",
       "X^tyxz = -1/2*d^2(h12)/dzdt \n",
       "X^tyyt = -1/2*d^2(h11)/dt^2 \n",
       "X^tyyz = 1/2*d^2(h11)/dzdt \n",
       "X^tyzx = 1/2*d^2(h12)/dzdt \n",
       "X^tyzy = -1/2*d^2(h11)/dzdt \n",
       "X^tztz = -1/2*d^2(h00)/dz^2 - 1/2*d^2(h00)/dt^2 + d^2(h03)/dzdt \n",
       "X^tzzt = 1/2*d^2(h00)/dz^2 + 1/2*d^2(h00)/dt^2 - d^2(h03)/dzdt \n",
       "X^xttx = 1/2*d^2(h11)/dt^2 \n",
       "X^xtty = 1/2*d^2(h12)/dt^2 \n",
       "X^xtxt = -1/2*d^2(h11)/dt^2 \n",
       "X^xtxz = 1/2*d^2(h11)/dzdt \n",
       "X^xtyt = -1/2*d^2(h12)/dt^2 \n",
       "X^xtyz = 1/2*d^2(h12)/dzdt \n",
       "X^xtzx = -1/2*d^2(h11)/dzdt \n",
       "X^xtzy = -1/2*d^2(h12)/dzdt \n",
       "X^xztx = -1/2*d^2(h11)/dzdt \n",
       "X^xzty = -1/2*d^2(h12)/dzdt \n",
       "X^xzxt = 1/2*d^2(h11)/dzdt \n",
       "X^xzxz = -1/2*d^2(h11)/dz^2 \n",
       "X^xzyt = 1/2*d^2(h12)/dzdt \n",
       "X^xzyz = -1/2*d^2(h12)/dz^2 \n",
       "X^xzzx = 1/2*d^2(h11)/dz^2 \n",
       "X^xzzy = 1/2*d^2(h12)/dz^2 \n",
       "X^yttx = 1/2*d^2(h12)/dt^2 \n",
       "X^ytty = -1/2*d^2(h11)/dt^2 \n",
       "X^ytxt = -1/2*d^2(h12)/dt^2 \n",
       "X^ytxz = 1/2*d^2(h12)/dzdt \n",
       "X^ytyt = 1/2*d^2(h11)/dt^2 \n",
       "X^ytyz = -1/2*d^2(h11)/dzdt \n",
       "X^ytzx = -1/2*d^2(h12)/dzdt \n",
       "X^ytzy = 1/2*d^2(h11)/dzdt \n",
       "X^yztx = -1/2*d^2(h12)/dzdt \n",
       "X^yzty = 1/2*d^2(h11)/dzdt \n",
       "X^yzxt = 1/2*d^2(h12)/dzdt \n",
       "X^yzxz = -1/2*d^2(h12)/dz^2 \n",
       "X^yzyt = -1/2*d^2(h11)/dzdt \n",
       "X^yzyz = 1/2*d^2(h11)/dz^2 \n",
       "X^yzzx = 1/2*d^2(h12)/dz^2 \n",
       "X^yzzy = -1/2*d^2(h11)/dz^2 \n",
       "X^zttz = 1/2*d^2(h00)/dz^2 + 1/2*d^2(h00)/dt^2 - d^2(h03)/dzdt \n",
       "X^ztzt = -1/2*d^2(h00)/dz^2 - 1/2*d^2(h00)/dt^2 + d^2(h03)/dzdt \n",
       "X^zxtx = 1/2*d^2(h11)/dzdt \n",
       "X^zxty = 1/2*d^2(h12)/dzdt \n",
       "X^zxxt = -1/2*d^2(h11)/dzdt \n",
       "X^zxxz = 1/2*d^2(h11)/dz^2 \n",
       "X^zxyt = -1/2*d^2(h12)/dzdt \n",
       "X^zxyz = 1/2*d^2(h12)/dz^2 \n",
       "X^zxzx = -1/2*d^2(h11)/dz^2 \n",
       "X^zxzy = -1/2*d^2(h12)/dz^2 \n",
       "X^zytx = 1/2*d^2(h12)/dzdt \n",
       "X^zyty = -1/2*d^2(h11)/dzdt \n",
       "X^zyxt = -1/2*d^2(h12)/dzdt \n",
       "X^zyxz = 1/2*d^2(h12)/dz^2 \n",
       "X^zyyt = 1/2*d^2(h11)/dzdt \n",
       "X^zyyz = -1/2*d^2(h11)/dz^2 \n",
       "X^zyzx = -1/2*d^2(h12)/dz^2 \n",
       "X^zyzy = 1/2*d^2(h11)/dz^2 "
      ]
     },
     "execution_count": 14,
     "metadata": {},
     "output_type": "execute_result"
    }
   ],
   "source": [
    "Riemu=Riemd.up(eta)\n",
    "Riemu.display_comp()"
   ]
  },
  {
   "cell_type": "markdown",
   "metadata": {},
   "source": [
    "#### Scalaire de Kretchmann"
   ]
  },
  {
   "cell_type": "code",
   "execution_count": 15,
   "metadata": {
    "collapsed": false
   },
   "outputs": [],
   "source": [
    "Kretch=Riemd['_ijkl']*Riemu['^ijkl']"
   ]
  },
  {
   "cell_type": "code",
   "execution_count": 16,
   "metadata": {
    "collapsed": false
   },
   "outputs": [
    {
     "data": {
      "text/html": [
       "<html><script type=\"math/tex; mode=display\">\\newcommand{\\Bold}[1]{\\mathbf{#1}}\\begin{array}{llcl} & \\mathcal{M} & \\longrightarrow & \\mathbb{R} \\\\ & \\left(t, x, y, z\\right) & \\longmapsto & \\left(\\frac{\\partial^2\\,h_{00}}{\\partial z ^ 2}\\right)^{2} + 2 \\, \\frac{\\partial^2\\,h_{00}}{\\partial z ^ 2} \\frac{\\partial^2\\,h_{00}}{\\partial t ^ 2} + \\frac{\\partial^2\\,h_{00}}{\\partial t ^ 2}^{2} - 4 \\, {\\left(\\frac{\\partial^2\\,h_{00}}{\\partial z ^ 2} + \\frac{\\partial^2\\,h_{00}}{\\partial t ^ 2}\\right)} \\frac{\\partial^2\\,h_{03}}{\\partial z\\partial t} + 4 \\, \\frac{\\partial^2\\,h_{03}}{\\partial z\\partial t}^{2} + 2 \\, \\left(\\frac{\\partial^2\\,h_{11}}{\\partial z ^ 2}\\right)^{2} - 4 \\, \\left(\\frac{\\partial^2\\,h_{11}}{\\partial z\\partial t}\\right)^{2} + 2 \\, \\left(\\frac{\\partial^2\\,h_{11}}{\\partial t ^ 2}\\right)^{2} + 2 \\, \\left(\\frac{\\partial^2\\,h_{12}}{\\partial z ^ 2}\\right)^{2} - 4 \\, \\left(\\frac{\\partial^2\\,h_{12}}{\\partial z\\partial t}\\right)^{2} + 2 \\, \\left(\\frac{\\partial^2\\,h_{12}}{\\partial t ^ 2}\\right)^{2} \\end{array}</script></html>"
      ],
      "text/plain": [
       "M --> R\n",
       "(t, x, y, z) |--> (d^2(h00)/dz^2)^2 + 2*d^2(h00)/dz^2*d^2(h00)/dt^2 + d^2(h00)/dt^2^2 - 4*(d^2(h00)/dz^2 + d^2(h00)/dt^2)*d^2(h03)/dzdt + 4*d^2(h03)/dzdt^2 + 2*(d^2(h11)/dz^2)^2 - 4*(d^2(h11)/dzdt)^2 + 2*(d^2(h11)/dt^2)^2 + 2*(d^2(h12)/dz^2)^2 - 4*(d^2(h12)/dzdt)^2 + 2*(d^2(h12)/dt^2)^2"
      ]
     },
     "execution_count": 16,
     "metadata": {},
     "output_type": "execute_result"
    }
   ],
   "source": [
    "Kretch.display()"
   ]
  },
  {
   "cell_type": "markdown",
   "metadata": {},
   "source": [
    "#### Déterminant"
   ]
  },
  {
   "cell_type": "code",
   "execution_count": 17,
   "metadata": {
    "collapsed": false
   },
   "outputs": [
    {
     "data": {
      "text/html": [
       "<html><script type=\"math/tex; mode=display\">\\newcommand{\\Bold}[1]{\\mathbf{#1}}\\begin{array}{llcl} & \\mathcal{M} & \\longrightarrow & \\mathbb{R} \\\\ & \\left(t, x, y, z\\right) & \\longmapsto & -{\\left(h_{00}\\left(z, t\\right)^{2} - h_{03}\\left(z, t\\right)^{2} - 1\\right)} h_{11}\\left(z, t\\right)^{2} - {\\left(h_{00}\\left(z, t\\right)^{2} - h_{03}\\left(z, t\\right)^{2} - 1\\right)} h_{12}\\left(z, t\\right)^{2} + h_{00}\\left(z, t\\right)^{2} - h_{03}\\left(z, t\\right)^{2} - 1 \\end{array}</script></html>"
      ],
      "text/plain": [
       "M --> R\n",
       "(t, x, y, z) |--> -(h00(z, t)^2 - h03(z, t)^2 - 1)*h11(z, t)^2 - (h00(z, t)^2 - h03(z, t)^2 - 1)*h12(z, t)^2 + h00(z, t)^2 - h03(z, t)^2 - 1"
      ]
     },
     "execution_count": 17,
     "metadata": {},
     "output_type": "execute_result"
    }
   ],
   "source": [
    "g= M.lorentzian_metric('g');\n",
    "for i in M.irange():\n",
    "        for j in M.irange():\n",
    "            g[i,j]=eta[i,j]+h[i,j]\n",
    "g.determinant().display()"
   ]
  },
  {
   "cell_type": "code",
   "execution_count": 18,
   "metadata": {
    "collapsed": false
   },
   "outputs": [
    {
     "data": {
      "text/html": [
       "<html><script type=\"math/tex; mode=display\">\\newcommand{\\Bold}[1]{\\mathbf{#1}}0</script></html>"
      ],
      "text/plain": [
       "0"
      ]
     },
     "execution_count": 18,
     "metadata": {},
     "output_type": "execute_result"
    }
   ],
   "source": [
    "(g.determinant().expr()+(h00^2-h03^2-1)*(h11^2+h12^2-1)).simplify_full()"
   ]
  },
  {
   "cell_type": "markdown",
   "metadata": {},
   "source": [
    "#### Calcul du flux d'énergie transporté"
   ]
  },
  {
   "cell_type": "code",
   "execution_count": 19,
   "metadata": {
    "collapsed": false
   },
   "outputs": [
    {
     "data": {
      "text/html": [
       "<html><script type=\"math/tex; mode=display\">\\newcommand{\\Bold}[1]{\\mathbf{#1}}\\begin{array}{lcl} X_{ \\, t \\, t \\, t }^{ \\phantom{\\, t}\\phantom{\\, t}\\phantom{\\, t} } & = & \\frac{\\partial\\,h_{00}}{\\partial t} \\\\ X_{ \\, t \\, t \\, z }^{ \\phantom{\\, t}\\phantom{\\, t}\\phantom{\\, z} } & = & \\frac{\\partial\\,h_{00}}{\\partial z} \\\\ X_{ \\, t \\, z \\, t }^{ \\phantom{\\, t}\\phantom{\\, z}\\phantom{\\, t} } & = & \\frac{\\partial\\,h_{03}}{\\partial t} \\\\ X_{ \\, t \\, z \\, z }^{ \\phantom{\\, t}\\phantom{\\, z}\\phantom{\\, z} } & = & \\frac{\\partial\\,h_{03}}{\\partial z} \\\\ X_{ \\, x \\, x \\, t }^{ \\phantom{\\, x}\\phantom{\\, x}\\phantom{\\, t} } & = & \\frac{\\partial\\,h_{11}}{\\partial t} \\\\ X_{ \\, x \\, x \\, z }^{ \\phantom{\\, x}\\phantom{\\, x}\\phantom{\\, z} } & = & \\frac{\\partial\\,h_{11}}{\\partial z} \\\\ X_{ \\, x \\, y \\, t }^{ \\phantom{\\, x}\\phantom{\\, y}\\phantom{\\, t} } & = & \\frac{\\partial\\,h_{12}}{\\partial t} \\\\ X_{ \\, x \\, y \\, z }^{ \\phantom{\\, x}\\phantom{\\, y}\\phantom{\\, z} } & = & \\frac{\\partial\\,h_{12}}{\\partial z} \\\\ X_{ \\, y \\, x \\, t }^{ \\phantom{\\, y}\\phantom{\\, x}\\phantom{\\, t} } & = & \\frac{\\partial\\,h_{12}}{\\partial t} \\\\ X_{ \\, y \\, x \\, z }^{ \\phantom{\\, y}\\phantom{\\, x}\\phantom{\\, z} } & = & \\frac{\\partial\\,h_{12}}{\\partial z} \\\\ X_{ \\, y \\, y \\, t }^{ \\phantom{\\, y}\\phantom{\\, y}\\phantom{\\, t} } & = & -\\frac{\\partial\\,h_{11}}{\\partial t} \\\\ X_{ \\, y \\, y \\, z }^{ \\phantom{\\, y}\\phantom{\\, y}\\phantom{\\, z} } & = & -\\frac{\\partial\\,h_{11}}{\\partial z} \\\\ X_{ \\, z \\, t \\, t }^{ \\phantom{\\, z}\\phantom{\\, t}\\phantom{\\, t} } & = & \\frac{\\partial\\,h_{03}}{\\partial t} \\\\ X_{ \\, z \\, t \\, z }^{ \\phantom{\\, z}\\phantom{\\, t}\\phantom{\\, z} } & = & \\frac{\\partial\\,h_{03}}{\\partial z} \\\\ X_{ \\, z \\, z \\, t }^{ \\phantom{\\, z}\\phantom{\\, z}\\phantom{\\, t} } & = & \\frac{\\partial\\,h_{00}}{\\partial t} \\\\ X_{ \\, z \\, z \\, z }^{ \\phantom{\\, z}\\phantom{\\, z}\\phantom{\\, z} } & = & \\frac{\\partial\\,h_{00}}{\\partial z} \\end{array}</script></html>"
      ],
      "text/plain": [
       "X_ttt = d(h00)/dt \n",
       "X_ttz = d(h00)/dz \n",
       "X_tzt = d(h03)/dt \n",
       "X_tzz = d(h03)/dz \n",
       "X_xxt = d(h11)/dt \n",
       "X_xxz = d(h11)/dz \n",
       "X_xyt = d(h12)/dt \n",
       "X_xyz = d(h12)/dz \n",
       "X_yxt = d(h12)/dt \n",
       "X_yxz = d(h12)/dz \n",
       "X_yyt = -d(h11)/dt \n",
       "X_yyz = -d(h11)/dz \n",
       "X_ztt = d(h03)/dt \n",
       "X_ztz = d(h03)/dz \n",
       "X_zzt = d(h00)/dt \n",
       "X_zzz = d(h00)/dz "
      ]
     },
     "execution_count": 19,
     "metadata": {},
     "output_type": "execute_result"
    }
   ],
   "source": [
    "dhd=M.tensor_field(0,3)\n",
    "for i in M.irange():\n",
    "        for j in M.irange():\n",
    "                   for k in M.irange():\n",
    "                        dhd[i,j,k]=h[i,j].diff(X[k])\n",
    "dhd.display_comp()"
   ]
  },
  {
   "cell_type": "code",
   "execution_count": 20,
   "metadata": {
    "collapsed": false
   },
   "outputs": [
    {
     "data": {
      "text/html": [
       "<html><script type=\"math/tex; mode=display\">\\newcommand{\\Bold}[1]{\\mathbf{#1}}\\begin{array}{lcl} X_{ \\phantom{\\, t}\\phantom{\\, t} \\, t }^{ \\, t \\, t \\phantom{\\, t} } & = & \\frac{\\partial\\,h_{00}}{\\partial t} \\\\ X_{ \\phantom{\\, t}\\phantom{\\, t} \\, z }^{ \\, t \\, t \\phantom{\\, z} } & = & \\frac{\\partial\\,h_{00}}{\\partial z} \\\\ X_{ \\phantom{\\, t}\\phantom{\\, z} \\, t }^{ \\, t \\, z \\phantom{\\, t} } & = & -\\frac{\\partial\\,h_{03}}{\\partial t} \\\\ X_{ \\phantom{\\, t}\\phantom{\\, z} \\, z }^{ \\, t \\, z \\phantom{\\, z} } & = & -\\frac{\\partial\\,h_{03}}{\\partial z} \\\\ X_{ \\phantom{\\, x}\\phantom{\\, x} \\, t }^{ \\, x \\, x \\phantom{\\, t} } & = & \\frac{\\partial\\,h_{11}}{\\partial t} \\\\ X_{ \\phantom{\\, x}\\phantom{\\, x} \\, z }^{ \\, x \\, x \\phantom{\\, z} } & = & \\frac{\\partial\\,h_{11}}{\\partial z} \\\\ X_{ \\phantom{\\, x}\\phantom{\\, y} \\, t }^{ \\, x \\, y \\phantom{\\, t} } & = & \\frac{\\partial\\,h_{12}}{\\partial t} \\\\ X_{ \\phantom{\\, x}\\phantom{\\, y} \\, z }^{ \\, x \\, y \\phantom{\\, z} } & = & \\frac{\\partial\\,h_{12}}{\\partial z} \\\\ X_{ \\phantom{\\, y}\\phantom{\\, x} \\, t }^{ \\, y \\, x \\phantom{\\, t} } & = & \\frac{\\partial\\,h_{12}}{\\partial t} \\\\ X_{ \\phantom{\\, y}\\phantom{\\, x} \\, z }^{ \\, y \\, x \\phantom{\\, z} } & = & \\frac{\\partial\\,h_{12}}{\\partial z} \\\\ X_{ \\phantom{\\, y}\\phantom{\\, y} \\, t }^{ \\, y \\, y \\phantom{\\, t} } & = & -\\frac{\\partial\\,h_{11}}{\\partial t} \\\\ X_{ \\phantom{\\, y}\\phantom{\\, y} \\, z }^{ \\, y \\, y \\phantom{\\, z} } & = & -\\frac{\\partial\\,h_{11}}{\\partial z} \\\\ X_{ \\phantom{\\, z}\\phantom{\\, t} \\, t }^{ \\, z \\, t \\phantom{\\, t} } & = & -\\frac{\\partial\\,h_{03}}{\\partial t} \\\\ X_{ \\phantom{\\, z}\\phantom{\\, t} \\, z }^{ \\, z \\, t \\phantom{\\, z} } & = & -\\frac{\\partial\\,h_{03}}{\\partial z} \\\\ X_{ \\phantom{\\, z}\\phantom{\\, z} \\, t }^{ \\, z \\, z \\phantom{\\, t} } & = & \\frac{\\partial\\,h_{00}}{\\partial t} \\\\ X_{ \\phantom{\\, z}\\phantom{\\, z} \\, z }^{ \\, z \\, z \\phantom{\\, z} } & = & \\frac{\\partial\\,h_{00}}{\\partial z} \\end{array}</script></html>"
      ],
      "text/plain": [
       "X^tt_t = d(h00)/dt \n",
       "X^tt_z = d(h00)/dz \n",
       "X^tz_t = -d(h03)/dt \n",
       "X^tz_z = -d(h03)/dz \n",
       "X^xx_t = d(h11)/dt \n",
       "X^xx_z = d(h11)/dz \n",
       "X^xy_t = d(h12)/dt \n",
       "X^xy_z = d(h12)/dz \n",
       "X^yx_t = d(h12)/dt \n",
       "X^yx_z = d(h12)/dz \n",
       "X^yy_t = -d(h11)/dt \n",
       "X^yy_z = -d(h11)/dz \n",
       "X^zt_t = -d(h03)/dt \n",
       "X^zt_z = -d(h03)/dz \n",
       "X^zz_t = d(h00)/dt \n",
       "X^zz_z = d(h00)/dz "
      ]
     },
     "execution_count": 20,
     "metadata": {},
     "output_type": "execute_result"
    }
   ],
   "source": [
    "dhu=M.tensor_field(2,1)\n",
    "for i in M.irange():\n",
    "        for j in M.irange():\n",
    "                   for k in M.irange():\n",
    "                        dhu[i,j,k]=huu[i,j].diff(X[k])\n",
    "dhu.display_comp()"
   ]
  },
  {
   "cell_type": "code",
   "execution_count": 21,
   "metadata": {
    "collapsed": true
   },
   "outputs": [],
   "source": [
    "flux= dhd['_ijk']*dhu['^ij_l']"
   ]
  },
  {
   "cell_type": "code",
   "execution_count": 22,
   "metadata": {
    "collapsed": false
   },
   "outputs": [
    {
     "name": "stdout",
     "output_type": "stream",
     "text": [
      "Tensor field of type (0,2) on the 4-dimensional differentiable manifold M\n"
     ]
    }
   ],
   "source": [
    "print flux"
   ]
  },
  {
   "cell_type": "code",
   "execution_count": 23,
   "metadata": {
    "collapsed": false
   },
   "outputs": [
    {
     "data": {
      "text/html": [
       "<html><script type=\"math/tex; mode=display\">\\newcommand{\\Bold}[1]{\\mathbf{#1}}\\begin{array}{lcl} X_{ \\, t \\, t }^{ \\phantom{\\, t}\\phantom{\\, t} } & = & 2 \\, \\left(\\frac{\\partial\\,h_{00}}{\\partial t}\\right)^{2} - 2 \\, \\left(\\frac{\\partial\\,h_{03}}{\\partial t}\\right)^{2} + 2 \\, \\left(\\frac{\\partial\\,h_{11}}{\\partial t}\\right)^{2} + 2 \\, \\left(\\frac{\\partial\\,h_{12}}{\\partial t}\\right)^{2} \\\\ X_{ \\, t \\, z }^{ \\phantom{\\, t}\\phantom{\\, z} } & = & 2 \\, \\frac{\\partial\\,h_{00}}{\\partial z} \\frac{\\partial\\,h_{00}}{\\partial t} - 2 \\, \\frac{\\partial\\,h_{03}}{\\partial z} \\frac{\\partial\\,h_{03}}{\\partial t} + 2 \\, \\frac{\\partial\\,h_{11}}{\\partial z} \\frac{\\partial\\,h_{11}}{\\partial t} + 2 \\, \\frac{\\partial\\,h_{12}}{\\partial z} \\frac{\\partial\\,h_{12}}{\\partial t} \\\\ X_{ \\, z \\, t }^{ \\phantom{\\, z}\\phantom{\\, t} } & = & 2 \\, \\frac{\\partial\\,h_{00}}{\\partial z} \\frac{\\partial\\,h_{00}}{\\partial t} - 2 \\, \\frac{\\partial\\,h_{03}}{\\partial z} \\frac{\\partial\\,h_{03}}{\\partial t} + 2 \\, \\frac{\\partial\\,h_{11}}{\\partial z} \\frac{\\partial\\,h_{11}}{\\partial t} + 2 \\, \\frac{\\partial\\,h_{12}}{\\partial z} \\frac{\\partial\\,h_{12}}{\\partial t} \\\\ X_{ \\, z \\, z }^{ \\phantom{\\, z}\\phantom{\\, z} } & = & 2 \\, \\left(\\frac{\\partial\\,h_{00}}{\\partial z}\\right)^{2} - 2 \\, \\left(\\frac{\\partial\\,h_{03}}{\\partial z}\\right)^{2} + 2 \\, \\left(\\frac{\\partial\\,h_{11}}{\\partial z}\\right)^{2} + 2 \\, \\left(\\frac{\\partial\\,h_{12}}{\\partial z}\\right)^{2} \\end{array}</script></html>"
      ],
      "text/plain": [
       "X_tt = 2*(d(h00)/dt)^2 - 2*(d(h03)/dt)^2 + 2*(d(h11)/dt)^2 + 2*(d(h12)/dt)^2 \n",
       "X_tz = 2*d(h00)/dz*d(h00)/dt - 2*d(h03)/dz*d(h03)/dt + 2*d(h11)/dz*d(h11)/dt + 2*d(h12)/dz*d(h12)/dt \n",
       "X_zt = 2*d(h00)/dz*d(h00)/dt - 2*d(h03)/dz*d(h03)/dt + 2*d(h11)/dz*d(h11)/dt + 2*d(h12)/dz*d(h12)/dt \n",
       "X_zz = 2*(d(h00)/dz)^2 - 2*(d(h03)/dz)^2 + 2*(d(h11)/dz)^2 + 2*(d(h12)/dz)^2 "
      ]
     },
     "execution_count": 23,
     "metadata": {},
     "output_type": "execute_result"
    }
   ],
   "source": [
    "flux.display_comp()"
   ]
  },
  {
   "cell_type": "code",
   "execution_count": null,
   "metadata": {
    "collapsed": true
   },
   "outputs": [],
   "source": []
  }
 ],
 "metadata": {
  "kernelspec": {
   "display_name": "SageMath 7.5.1",
   "language": "",
   "name": "sagemath"
  },
  "language_info": {
   "codemirror_mode": {
    "name": "ipython",
    "version": 2
   },
   "file_extension": ".py",
   "mimetype": "text/x-python",
   "name": "python",
   "nbconvert_exporter": "python",
   "pygments_lexer": "ipython2",
   "version": "2.7.13"
  }
 },
 "nbformat": 4,
 "nbformat_minor": 0
}
